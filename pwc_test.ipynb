{
 "cells": [
  {
   "cell_type": "code",
   "execution_count": null,
   "id": "e195928b",
   "metadata": {},
   "outputs": [],
   "source": [
    "import numpy as np\n",
    "import pandas as pd\n",
    "from datetime import datetime\n",
    "\n",
    "from extract_npl_data import extract_npl\n",
    "from extract_macroeconomic_data import extract_reporate, extract_cpi, extract_unemployment, extract_gdp\n",
    "\n"
   ]
  },
  {
   "cell_type": "code",
   "execution_count": null,
   "id": "d77af164",
   "metadata": {},
   "outputs": [],
   "source": [
    "# npl_df = extract_npl()\n",
    "\n",
    "npl_df = pd.read_csv('npl_data_all_banks.csv', encoding='utf-8')\n",
    "\n",
    "reporate_df = extract_reporate()\n",
    "cpi_df = extract_cpi()\n",
    "unemployment_df = extract_unemployment()\n",
    "gdp_df = extract_gdp()"
   ]
  },
  {
   "cell_type": "code",
   "execution_count": 9,
   "id": "49ddc70e",
   "metadata": {},
   "outputs": [
    {
     "data": {
      "application/vnd.microsoft.datawrangler.viewer.v0+json": {
       "columns": [
        {
         "name": "index",
         "rawType": "int64",
         "type": "integer"
        },
        {
         "name": "institution",
         "rawType": "object",
         "type": "string"
        },
        {
         "name": "date",
         "rawType": "object",
         "type": "string"
        },
        {
         "name": "file_path",
         "rawType": "object",
         "type": "string"
        },
        {
         "name": "gross_loans",
         "rawType": "float64",
         "type": "float"
        },
        {
         "name": "credit_impairments",
         "rawType": "float64",
         "type": "float"
        },
        {
         "name": "npl_ratio",
         "rawType": "float64",
         "type": "float"
        }
       ],
       "ref": "c9ff89ff-bc2b-4e93-ac66-b0aef91ab7a7",
       "rows": [
        [
         "0",
         "ABSA BANK LTD",
         "2022-01-01",
         "test_data/BA900_2022-01-01_zipcsv/34118.csv",
         "36866573.0",
         "31941837.0",
         "86.64173097944308"
        ],
        [
         "1",
         "AFRICAN BANK LIMITED (N)",
         "2022-01-01",
         "test_data/BA900_2022-01-01_zipcsv/160571.csv",
         "3781224.0",
         "10205358.0",
         "269.89562110046904"
        ],
        [
         "2",
         "BANK OF CHINA LTD JHB BRANCH (T/A BANK OF CHINA JHB BRANC",
         "2022-01-01",
         "test_data/BA900_2022-01-01_zipcsv/337889.csv",
         "6555376.0",
         "359716.0",
         "5.487343517747876"
        ],
        [
         "3",
         "BNP PARIBAS SOUTH AFRICA BRANCH",
         "2022-01-01",
         "test_data/BA900_2022-01-01_zipcsv/478636.csv",
         "17.0",
         "19661.0",
         "115652.9411764706"
        ],
        [
         "4",
         "CAPITEC BANK",
         "2022-01-01",
         "test_data/BA900_2022-01-01_zipcsv/333107.csv",
         "6822732.0",
         "18131045.0",
         "265.74464598638787"
        ],
        [
         "5",
         "CITIBANK N.A",
         "2022-01-01",
         "test_data/BA900_2022-01-01_zipcsv/165565.csv",
         "727631.58",
         "23868.61",
         "3.2803152936270306"
        ],
        [
         "6",
         "DISCOVERY BANK LIMITED",
         "2022-01-01",
         "test_data/BA900_2022-01-01_zipcsv/165271.csv",
         "4100612.0",
         "514672.0",
         "12.551102128170136"
        ],
        [
         "7",
         "FIRSTRAND BANK LIMITED",
         "2022-01-01",
         "test_data/BA900_2022-01-01_zipcsv/416053.csv",
         "46929681.4869",
         "35830982.1476",
         "76.35036295228618"
        ],
        [
         "8",
         "GBS MUTUAL BANK",
         "2022-01-01",
         "test_data/BA900_2022-01-01_zipcsv/418072.csv",
         "77.0",
         "9228.0",
         "11984.415584415585"
        ],
        [
         "9",
         "HSBC BANK PLC - JOHANNESBURG BRANCH",
         "2022-01-01",
         "test_data/BA900_2022-01-01_zipcsv/535761.csv",
         "275730.0",
         "189890.0",
         "68.86809560076887"
        ],
        [
         "10",
         "INVESTEC BANK LTD",
         "2022-01-01",
         "test_data/BA900_2022-01-01_zipcsv/25054.csv",
         "2397857.0",
         "2534394.0",
         "105.69412604671588"
        ],
        [
         "11",
         "JPMORGAN CHASE BANK (JOHANNESBURG BRANCH)",
         "2022-01-01",
         "test_data/BA900_2022-01-01_zipcsv/331899.csv",
         "14.0",
         "25525.0",
         "182321.42857142855"
        ],
        [
         "12",
         "NEDBANK LTD",
         "2022-01-01",
         "test_data/BA900_2022-01-01_zipcsv/416088.csv",
         "18094775.0",
         "23539245.0",
         "130.08863055771624"
        ],
        [
         "13",
         "STANDARD CHARTERED BANK",
         "2022-01-01",
         "test_data/BA900_2022-01-01_zipcsv/535788.csv",
         "35701.0",
         "1028899.0",
         "2881.9893000196075"
        ],
        [
         "14",
         "THE STANDARD BANK OF S A LTD",
         "2022-01-01",
         "test_data/BA900_2022-01-01_zipcsv/416061.csv",
         "43241585.0",
         "40750177.0",
         "94.23839806057065"
        ],
        [
         "15",
         "ABSA BANK LTD",
         "2022-02-01",
         "test_data/BA900_2022-02-01_zipcsv/34118.csv",
         "37299353.0",
         "32384280.0",
         "86.82263201723633"
        ],
        [
         "16",
         "AFRICAN BANK LIMITED (N)",
         "2022-02-01",
         "test_data/BA900_2022-02-01_zipcsv/160571.csv",
         "3820000.0",
         "10124208.0",
         "265.0316230366492"
        ],
        [
         "17",
         "BANK OF CHINA LTD JHB BRANCH (T/A BANK OF CHINA JHB BRANC",
         "2022-02-01",
         "test_data/BA900_2022-02-01_zipcsv/337889.csv",
         "6535381.0",
         "360762.0",
         "5.520137234539195"
        ],
        [
         "18",
         "BNP PARIBAS SOUTH AFRICA BRANCH",
         "2022-02-01",
         "test_data/BA900_2022-02-01_zipcsv/478636.csv",
         "18.0",
         "19655.0",
         "109194.44444444444"
        ],
        [
         "19",
         "CAPITEC BANK",
         "2022-02-01",
         "test_data/BA900_2022-02-01_zipcsv/333107.csv",
         "6713872.0",
         "17472371.0",
         "260.24283751611586"
        ],
        [
         "20",
         "CITIBANK N.A",
         "2022-02-01",
         "test_data/BA900_2022-02-01_zipcsv/165565.csv",
         "108901.32",
         "24453.97",
         "22.45516399617562"
        ],
        [
         "21",
         "DISCOVERY BANK LIMITED",
         "2022-02-01",
         "test_data/BA900_2022-02-01_zipcsv/165271.csv",
         "4134968.0",
         "527457.0",
         "12.756011654745574"
        ],
        [
         "22",
         "FIRSTRAND BANK LIMITED",
         "2022-02-01",
         "test_data/BA900_2022-02-01_zipcsv/416053.csv",
         "46910513.9386",
         "35550793.6973",
         "75.78427672702873"
        ],
        [
         "23",
         "GBS MUTUAL BANK",
         "2022-02-01",
         "test_data/BA900_2022-02-01_zipcsv/418072.csv",
         "993.0",
         "10981.0",
         "1105.840886203424"
        ],
        [
         "24",
         "HSBC BANK PLC - JOHANNESBURG BRANCH",
         "2022-02-01",
         "test_data/BA900_2022-02-01_zipcsv/535761.csv",
         "287417.0",
         "194267.0",
         "67.59064355970594"
        ],
        [
         "25",
         "INVESTEC BANK LTD",
         "2022-02-01",
         "test_data/BA900_2022-02-01_zipcsv/25054.csv",
         "2443795.0",
         "2616450.0",
         "107.06503614255696"
        ],
        [
         "26",
         "JPMORGAN CHASE BANK (JOHANNESBURG BRANCH)",
         "2022-02-01",
         "test_data/BA900_2022-02-01_zipcsv/331899.csv",
         "18.0",
         "25525.0",
         "141805.55555555556"
        ],
        [
         "27",
         "NEDBANK LTD",
         "2022-02-01",
         "test_data/BA900_2022-02-01_zipcsv/416088.csv",
         "18343568.0",
         "23816355.0",
         "129.83490998043564"
        ],
        [
         "28",
         "STANDARD CHARTERED BANK",
         "2022-02-01",
         "test_data/BA900_2022-02-01_zipcsv/535788.csv",
         "34763.0",
         "1035352.0",
         "2978.3160256594656"
        ],
        [
         "29",
         "THE STANDARD BANK OF S A LTD",
         "2022-02-01",
         "test_data/BA900_2022-02-01_zipcsv/416061.csv",
         "42629114.0",
         "41265662.0",
         "96.80159432823304"
        ],
        [
         "30",
         "ABSA BANK LTD",
         "2022-03-01",
         "test_data/BA900_2022-03-01_zipcsv/34118.csv",
         "37417131.0",
         "32641688.0",
         "87.2372817680757"
        ],
        [
         "31",
         "AFRICAN BANK LIMITED (N)",
         "2022-03-01",
         "test_data/BA900_2022-03-01_zipcsv/160571.csv",
         "3917045.0",
         "10117409.0",
         "258.2918756358428"
        ],
        [
         "32",
         "BANK OF CHINA LTD JHB BRANCH (T/A BANK OF CHINA JHB BRANC",
         "2022-03-01",
         "test_data/BA900_2022-03-01_zipcsv/337889.csv",
         "6051793.0",
         "546116.0",
         "9.024036347575008"
        ],
        [
         "33",
         "BNP PARIBAS SOUTH AFRICA BRANCH",
         "2022-03-01",
         "test_data/BA900_2022-03-01_zipcsv/478636.csv",
         "18.0",
         "24126.0",
         "134033.3333333333"
        ],
        [
         "34",
         "CAPITEC BANK",
         "2022-03-01",
         "test_data/BA900_2022-03-01_zipcsv/333107.csv",
         "6771995.0",
         "17699938.0",
         "261.3696259374084"
        ],
        [
         "35",
         "CITIBANK N.A",
         "2022-03-01",
         "test_data/BA900_2022-03-01_zipcsv/165565.csv",
         "4659313.18",
         "23611.9",
         "0.506767823664517"
        ],
        [
         "36",
         "DISCOVERY BANK LIMITED",
         "2022-03-01",
         "test_data/BA900_2022-03-01_zipcsv/165271.csv",
         "4166330.0",
         "535303.0",
         "12.84831014345959"
        ],
        [
         "37",
         "FIRSTRAND BANK LIMITED",
         "2022-03-01",
         "test_data/BA900_2022-03-01_zipcsv/416053.csv",
         "47204635.2846",
         "35383898.967",
         "74.95852632621359"
        ],
        [
         "38",
         "GBS MUTUAL BANK",
         "2022-03-01",
         "test_data/BA900_2022-03-01_zipcsv/418072.csv",
         "1003.0",
         "9995.0",
         "996.5104685942174"
        ],
        [
         "39",
         "HSBC BANK PLC - JOHANNESBURG BRANCH",
         "2022-03-01",
         "test_data/BA900_2022-03-01_zipcsv/535761.csv",
         "281120.0",
         "191923.0",
         "68.27084519066591"
        ],
        [
         "40",
         "INVESTEC BANK LTD",
         "2022-03-01",
         "test_data/BA900_2022-03-01_zipcsv/25054.csv",
         "2273246.0",
         "2722134.0",
         "119.74656504399437"
        ],
        [
         "41",
         "JPMORGAN CHASE BANK (JOHANNESBURG BRANCH)",
         "2022-03-01",
         "test_data/BA900_2022-03-01_zipcsv/331899.csv",
         "22.0",
         "14631.0",
         "66504.54545454546"
        ],
        [
         "42",
         "NEDBANK LTD",
         "2022-03-01",
         "test_data/BA900_2022-03-01_zipcsv/416088.csv",
         "18219912.0",
         "23827715.0",
         "130.7784307630026"
        ],
        [
         "43",
         "STANDARD CHARTERED BANK",
         "2022-03-01",
         "test_data/BA900_2022-03-01_zipcsv/535788.csv",
         "14962.0",
         "1038052.0",
         "6937.922737601924"
        ],
        [
         "44",
         "THE STANDARD BANK OF S A LTD",
         "2022-03-01",
         "test_data/BA900_2022-03-01_zipcsv/416061.csv",
         "43571578.0",
         "41603700.0",
         "95.48357417764396"
        ],
        [
         "45",
         "ABSA BANK LTD",
         "2022-04-01",
         "test_data/BA900_2022-04-01_zipcsv/34118.csv",
         "37901667.0",
         "32843728.0",
         "86.65510147614351"
        ],
        [
         "46",
         "AFRICAN BANK LIMITED (N)",
         "2022-04-01",
         "test_data/BA900_2022-04-01_zipcsv/160571.csv",
         "4018235.0",
         "10361722.0",
         "257.8674965501022"
        ],
        [
         "47",
         "BANK OF CHINA LTD JHB BRANCH (T/A BANK OF CHINA JHB BRANC",
         "2022-04-01",
         "test_data/BA900_2022-04-01_zipcsv/337889.csv",
         "6542183.0",
         "483466.0",
         "7.389979766692554"
        ],
        [
         "48",
         "BNP PARIBAS SOUTH AFRICA BRANCH",
         "2022-04-01",
         "test_data/BA900_2022-04-01_zipcsv/478636.csv",
         "19.0",
         "24188.0",
         "127305.26315789472"
        ],
        [
         "49",
         "CAPITEC BANK",
         "2022-04-01",
         "test_data/BA900_2022-04-01_zipcsv/333107.csv",
         "6814005.0",
         "18197684.0",
         "267.062968107596"
        ]
       ],
       "shape": {
        "columns": 6,
        "rows": 561
       }
      },
      "text/html": [
       "<div>\n",
       "<style scoped>\n",
       "    .dataframe tbody tr th:only-of-type {\n",
       "        vertical-align: middle;\n",
       "    }\n",
       "\n",
       "    .dataframe tbody tr th {\n",
       "        vertical-align: top;\n",
       "    }\n",
       "\n",
       "    .dataframe thead th {\n",
       "        text-align: right;\n",
       "    }\n",
       "</style>\n",
       "<table border=\"1\" class=\"dataframe\">\n",
       "  <thead>\n",
       "    <tr style=\"text-align: right;\">\n",
       "      <th></th>\n",
       "      <th>institution</th>\n",
       "      <th>date</th>\n",
       "      <th>file_path</th>\n",
       "      <th>gross_loans</th>\n",
       "      <th>credit_impairments</th>\n",
       "      <th>npl_ratio</th>\n",
       "    </tr>\n",
       "  </thead>\n",
       "  <tbody>\n",
       "    <tr>\n",
       "      <th>0</th>\n",
       "      <td>ABSA BANK LTD</td>\n",
       "      <td>2022-01-01</td>\n",
       "      <td>test_data/BA900_2022-01-01_zipcsv/34118.csv</td>\n",
       "      <td>36866573.0</td>\n",
       "      <td>31941837.0</td>\n",
       "      <td>86.641731</td>\n",
       "    </tr>\n",
       "    <tr>\n",
       "      <th>1</th>\n",
       "      <td>AFRICAN BANK LIMITED (N)</td>\n",
       "      <td>2022-01-01</td>\n",
       "      <td>test_data/BA900_2022-01-01_zipcsv/160571.csv</td>\n",
       "      <td>3781224.0</td>\n",
       "      <td>10205358.0</td>\n",
       "      <td>269.895621</td>\n",
       "    </tr>\n",
       "    <tr>\n",
       "      <th>2</th>\n",
       "      <td>BANK OF CHINA LTD JHB BRANCH (T/A BANK OF CHIN...</td>\n",
       "      <td>2022-01-01</td>\n",
       "      <td>test_data/BA900_2022-01-01_zipcsv/337889.csv</td>\n",
       "      <td>6555376.0</td>\n",
       "      <td>359716.0</td>\n",
       "      <td>5.487344</td>\n",
       "    </tr>\n",
       "    <tr>\n",
       "      <th>3</th>\n",
       "      <td>BNP PARIBAS SOUTH AFRICA BRANCH</td>\n",
       "      <td>2022-01-01</td>\n",
       "      <td>test_data/BA900_2022-01-01_zipcsv/478636.csv</td>\n",
       "      <td>17.0</td>\n",
       "      <td>19661.0</td>\n",
       "      <td>115652.941176</td>\n",
       "    </tr>\n",
       "    <tr>\n",
       "      <th>4</th>\n",
       "      <td>CAPITEC BANK</td>\n",
       "      <td>2022-01-01</td>\n",
       "      <td>test_data/BA900_2022-01-01_zipcsv/333107.csv</td>\n",
       "      <td>6822732.0</td>\n",
       "      <td>18131045.0</td>\n",
       "      <td>265.744646</td>\n",
       "    </tr>\n",
       "    <tr>\n",
       "      <th>...</th>\n",
       "      <td>...</td>\n",
       "      <td>...</td>\n",
       "      <td>...</td>\n",
       "      <td>...</td>\n",
       "      <td>...</td>\n",
       "      <td>...</td>\n",
       "    </tr>\n",
       "    <tr>\n",
       "      <th>556</th>\n",
       "      <td>INVESTEC BANK LTD</td>\n",
       "      <td>2025-02-01</td>\n",
       "      <td>test_data/BA900_2025-02-01_zipcsv/25054.csv</td>\n",
       "      <td>2335914.0</td>\n",
       "      <td>3032562.0</td>\n",
       "      <td>129.823358</td>\n",
       "    </tr>\n",
       "    <tr>\n",
       "      <th>557</th>\n",
       "      <td>JPMORGAN CHASE BANK (JOHANNESBURG BRANCH)</td>\n",
       "      <td>2025-02-01</td>\n",
       "      <td>test_data/BA900_2025-02-01_zipcsv/331899.csv</td>\n",
       "      <td>9.0</td>\n",
       "      <td>55184.0</td>\n",
       "      <td>613155.555556</td>\n",
       "    </tr>\n",
       "    <tr>\n",
       "      <th>558</th>\n",
       "      <td>NEDBANK LTD</td>\n",
       "      <td>2025-02-01</td>\n",
       "      <td>test_data/BA900_2025-02-01_zipcsv/416088.csv</td>\n",
       "      <td>18750887.0</td>\n",
       "      <td>27306423.0</td>\n",
       "      <td>145.627367</td>\n",
       "    </tr>\n",
       "    <tr>\n",
       "      <th>559</th>\n",
       "      <td>STANDARD CHARTERED BANK</td>\n",
       "      <td>2025-02-01</td>\n",
       "      <td>test_data/BA900_2025-02-01_zipcsv/535788.csv</td>\n",
       "      <td>290043.0</td>\n",
       "      <td>283777.0</td>\n",
       "      <td>97.839631</td>\n",
       "    </tr>\n",
       "    <tr>\n",
       "      <th>560</th>\n",
       "      <td>THE STANDARD BANK OF S A LTD</td>\n",
       "      <td>2025-02-01</td>\n",
       "      <td>test_data/BA900_2025-02-01_zipcsv/416061.csv</td>\n",
       "      <td>44000492.0</td>\n",
       "      <td>52572369.0</td>\n",
       "      <td>119.481321</td>\n",
       "    </tr>\n",
       "  </tbody>\n",
       "</table>\n",
       "<p>561 rows × 6 columns</p>\n",
       "</div>"
      ],
      "text/plain": [
       "                                           institution        date  \\\n",
       "0                                        ABSA BANK LTD  2022-01-01   \n",
       "1                             AFRICAN BANK LIMITED (N)  2022-01-01   \n",
       "2    BANK OF CHINA LTD JHB BRANCH (T/A BANK OF CHIN...  2022-01-01   \n",
       "3                      BNP PARIBAS SOUTH AFRICA BRANCH  2022-01-01   \n",
       "4                                         CAPITEC BANK  2022-01-01   \n",
       "..                                                 ...         ...   \n",
       "556                                  INVESTEC BANK LTD  2025-02-01   \n",
       "557          JPMORGAN CHASE BANK (JOHANNESBURG BRANCH)  2025-02-01   \n",
       "558                                        NEDBANK LTD  2025-02-01   \n",
       "559                            STANDARD CHARTERED BANK  2025-02-01   \n",
       "560                       THE STANDARD BANK OF S A LTD  2025-02-01   \n",
       "\n",
       "                                        file_path  gross_loans  \\\n",
       "0     test_data/BA900_2022-01-01_zipcsv/34118.csv   36866573.0   \n",
       "1    test_data/BA900_2022-01-01_zipcsv/160571.csv    3781224.0   \n",
       "2    test_data/BA900_2022-01-01_zipcsv/337889.csv    6555376.0   \n",
       "3    test_data/BA900_2022-01-01_zipcsv/478636.csv         17.0   \n",
       "4    test_data/BA900_2022-01-01_zipcsv/333107.csv    6822732.0   \n",
       "..                                            ...          ...   \n",
       "556   test_data/BA900_2025-02-01_zipcsv/25054.csv    2335914.0   \n",
       "557  test_data/BA900_2025-02-01_zipcsv/331899.csv          9.0   \n",
       "558  test_data/BA900_2025-02-01_zipcsv/416088.csv   18750887.0   \n",
       "559  test_data/BA900_2025-02-01_zipcsv/535788.csv     290043.0   \n",
       "560  test_data/BA900_2025-02-01_zipcsv/416061.csv   44000492.0   \n",
       "\n",
       "     credit_impairments      npl_ratio  \n",
       "0            31941837.0      86.641731  \n",
       "1            10205358.0     269.895621  \n",
       "2              359716.0       5.487344  \n",
       "3               19661.0  115652.941176  \n",
       "4            18131045.0     265.744646  \n",
       "..                  ...            ...  \n",
       "556           3032562.0     129.823358  \n",
       "557             55184.0  613155.555556  \n",
       "558          27306423.0     145.627367  \n",
       "559            283777.0      97.839631  \n",
       "560          52572369.0     119.481321  \n",
       "\n",
       "[561 rows x 6 columns]"
      ]
     },
     "execution_count": 9,
     "metadata": {},
     "output_type": "execute_result"
    }
   ],
   "source": [
    "npl_df"
   ]
  },
  {
   "cell_type": "code",
   "execution_count": 2,
   "id": "bd175293",
   "metadata": {},
   "outputs": [
    {
     "data": {
      "application/vnd.microsoft.datawrangler.viewer.v0+json": {
       "columns": [
        {
         "name": "date",
         "rawType": "datetime64[ns]",
         "type": "datetime"
        },
        {
         "name": "repo_rate",
         "rawType": "float64",
         "type": "float"
        }
       ],
       "ref": "7cc8b451-fdf1-4a52-af96-2b10e72041ac",
       "rows": [
        [
         "2025-07-01 00:00:00",
         "7.25"
        ],
        [
         "2025-06-30 00:00:00",
         "7.25"
        ],
        [
         "2025-06-27 00:00:00",
         "7.25"
        ],
        [
         "2025-06-26 00:00:00",
         "7.25"
        ],
        [
         "2025-06-25 00:00:00",
         "7.25"
        ],
        [
         "2025-06-24 00:00:00",
         "7.25"
        ],
        [
         "2025-06-23 00:00:00",
         "7.25"
        ],
        [
         "2025-06-20 00:00:00",
         "7.25"
        ],
        [
         "2025-06-19 00:00:00",
         "7.25"
        ],
        [
         "2025-06-18 00:00:00",
         "7.25"
        ],
        [
         "2025-06-17 00:00:00",
         "7.25"
        ],
        [
         "2025-06-13 00:00:00",
         "7.25"
        ],
        [
         "2025-06-12 00:00:00",
         "7.25"
        ],
        [
         "2025-06-11 00:00:00",
         "7.25"
        ],
        [
         "2025-06-10 00:00:00",
         "7.25"
        ],
        [
         "2025-06-09 00:00:00",
         "7.25"
        ],
        [
         "2025-06-06 00:00:00",
         "7.25"
        ],
        [
         "2025-06-05 00:00:00",
         "7.25"
        ],
        [
         "2025-06-04 00:00:00",
         "7.25"
        ],
        [
         "2025-06-03 00:00:00",
         "7.25"
        ],
        [
         "2025-06-02 00:00:00",
         "7.25"
        ],
        [
         "2025-05-30 00:00:00",
         "7.25"
        ],
        [
         "2025-05-29 00:00:00",
         "7.5"
        ],
        [
         "2025-05-28 00:00:00",
         "7.5"
        ],
        [
         "2025-05-27 00:00:00",
         "7.5"
        ],
        [
         "2025-05-26 00:00:00",
         "7.5"
        ],
        [
         "2025-05-23 00:00:00",
         "7.5"
        ],
        [
         "2025-05-22 00:00:00",
         "7.5"
        ],
        [
         "2025-05-21 00:00:00",
         "7.5"
        ],
        [
         "2025-05-20 00:00:00",
         "7.5"
        ],
        [
         "2025-05-19 00:00:00",
         "7.5"
        ],
        [
         "2025-05-16 00:00:00",
         "7.5"
        ],
        [
         "2025-05-15 00:00:00",
         "7.5"
        ],
        [
         "2025-05-14 00:00:00",
         "7.5"
        ],
        [
         "2025-05-13 00:00:00",
         "7.5"
        ],
        [
         "2025-05-12 00:00:00",
         "7.5"
        ],
        [
         "2025-05-09 00:00:00",
         "7.5"
        ],
        [
         "2025-05-08 00:00:00",
         "7.5"
        ],
        [
         "2025-05-07 00:00:00",
         "7.5"
        ],
        [
         "2025-05-06 00:00:00",
         "7.5"
        ],
        [
         "2025-05-05 00:00:00",
         "7.5"
        ],
        [
         "2025-05-02 00:00:00",
         "7.5"
        ],
        [
         "2025-04-30 00:00:00",
         "7.5"
        ],
        [
         "2025-04-29 00:00:00",
         "7.5"
        ],
        [
         "2025-04-25 00:00:00",
         "7.5"
        ],
        [
         "2025-04-24 00:00:00",
         "7.5"
        ],
        [
         "2025-04-23 00:00:00",
         "7.5"
        ],
        [
         "2025-04-22 00:00:00",
         "7.5"
        ],
        [
         "2025-04-17 00:00:00",
         "7.5"
        ],
        [
         "2025-04-16 00:00:00",
         "7.5"
        ]
       ],
       "shape": {
        "columns": 1,
        "rows": 871
       }
      },
      "text/html": [
       "<div>\n",
       "<style scoped>\n",
       "    .dataframe tbody tr th:only-of-type {\n",
       "        vertical-align: middle;\n",
       "    }\n",
       "\n",
       "    .dataframe tbody tr th {\n",
       "        vertical-align: top;\n",
       "    }\n",
       "\n",
       "    .dataframe thead th {\n",
       "        text-align: right;\n",
       "    }\n",
       "</style>\n",
       "<table border=\"1\" class=\"dataframe\">\n",
       "  <thead>\n",
       "    <tr style=\"text-align: right;\">\n",
       "      <th></th>\n",
       "      <th>repo_rate</th>\n",
       "    </tr>\n",
       "    <tr>\n",
       "      <th>date</th>\n",
       "      <th></th>\n",
       "    </tr>\n",
       "  </thead>\n",
       "  <tbody>\n",
       "    <tr>\n",
       "      <th>2025-07-01</th>\n",
       "      <td>7.25</td>\n",
       "    </tr>\n",
       "    <tr>\n",
       "      <th>2025-06-30</th>\n",
       "      <td>7.25</td>\n",
       "    </tr>\n",
       "    <tr>\n",
       "      <th>2025-06-27</th>\n",
       "      <td>7.25</td>\n",
       "    </tr>\n",
       "    <tr>\n",
       "      <th>2025-06-26</th>\n",
       "      <td>7.25</td>\n",
       "    </tr>\n",
       "    <tr>\n",
       "      <th>2025-06-25</th>\n",
       "      <td>7.25</td>\n",
       "    </tr>\n",
       "    <tr>\n",
       "      <th>...</th>\n",
       "      <td>...</td>\n",
       "    </tr>\n",
       "    <tr>\n",
       "      <th>2022-01-07</th>\n",
       "      <td>3.75</td>\n",
       "    </tr>\n",
       "    <tr>\n",
       "      <th>2022-01-06</th>\n",
       "      <td>3.75</td>\n",
       "    </tr>\n",
       "    <tr>\n",
       "      <th>2022-01-05</th>\n",
       "      <td>3.75</td>\n",
       "    </tr>\n",
       "    <tr>\n",
       "      <th>2022-01-04</th>\n",
       "      <td>3.75</td>\n",
       "    </tr>\n",
       "    <tr>\n",
       "      <th>2022-01-03</th>\n",
       "      <td>3.75</td>\n",
       "    </tr>\n",
       "  </tbody>\n",
       "</table>\n",
       "<p>871 rows × 1 columns</p>\n",
       "</div>"
      ],
      "text/plain": [
       "            repo_rate\n",
       "date                 \n",
       "2025-07-01       7.25\n",
       "2025-06-30       7.25\n",
       "2025-06-27       7.25\n",
       "2025-06-26       7.25\n",
       "2025-06-25       7.25\n",
       "...               ...\n",
       "2022-01-07       3.75\n",
       "2022-01-06       3.75\n",
       "2022-01-05       3.75\n",
       "2022-01-04       3.75\n",
       "2022-01-03       3.75\n",
       "\n",
       "[871 rows x 1 columns]"
      ]
     },
     "execution_count": 2,
     "metadata": {},
     "output_type": "execute_result"
    }
   ],
   "source": [
    "reporate_df"
   ]
  },
  {
   "cell_type": "code",
   "execution_count": 3,
   "id": "1a61f8f0",
   "metadata": {},
   "outputs": [
    {
     "data": {
      "application/vnd.microsoft.datawrangler.viewer.v0+json": {
       "columns": [
        {
         "name": "date",
         "rawType": "datetime64[ns]",
         "type": "datetime"
        },
        {
         "name": "inflation_rate",
         "rawType": "float64",
         "type": "float"
        }
       ],
       "ref": "165af4ae-ede0-43c7-940e-34d508234b2a",
       "rows": [
        [
         "2022-01-01 00:00:00",
         "5.7"
        ],
        [
         "2022-02-01 00:00:00",
         "5.7"
        ],
        [
         "2022-03-01 00:00:00",
         "5.9"
        ],
        [
         "2022-04-01 00:00:00",
         "5.9"
        ],
        [
         "2022-05-01 00:00:00",
         "6.5"
        ],
        [
         "2022-06-01 00:00:00",
         "7.4"
        ],
        [
         "2022-07-01 00:00:00",
         "7.8"
        ],
        [
         "2022-08-01 00:00:00",
         "7.6"
        ],
        [
         "2022-09-01 00:00:00",
         "7.5"
        ],
        [
         "2022-10-01 00:00:00",
         "7.6"
        ],
        [
         "2022-11-01 00:00:00",
         "7.4"
        ],
        [
         "2022-12-01 00:00:00",
         "7.2"
        ],
        [
         "2023-01-01 00:00:00",
         "6.9"
        ],
        [
         "2023-02-01 00:00:00",
         "7.0"
        ],
        [
         "2023-03-01 00:00:00",
         "7.1"
        ],
        [
         "2023-04-01 00:00:00",
         "6.8"
        ],
        [
         "2023-05-01 00:00:00",
         "6.3"
        ],
        [
         "2023-06-01 00:00:00",
         "5.4"
        ],
        [
         "2023-07-01 00:00:00",
         "4.7"
        ],
        [
         "2023-08-01 00:00:00",
         "4.8"
        ],
        [
         "2023-09-01 00:00:00",
         "5.4"
        ],
        [
         "2023-10-01 00:00:00",
         "5.9"
        ],
        [
         "2023-11-01 00:00:00",
         "5.5"
        ],
        [
         "2023-12-01 00:00:00",
         "5.1"
        ],
        [
         "2024-01-01 00:00:00",
         "5.3"
        ],
        [
         "2024-02-01 00:00:00",
         "5.6"
        ],
        [
         "2024-03-01 00:00:00",
         "5.3"
        ],
        [
         "2024-04-01 00:00:00",
         "5.2"
        ],
        [
         "2024-05-01 00:00:00",
         "5.2"
        ],
        [
         "2024-06-01 00:00:00",
         "5.1"
        ],
        [
         "2024-07-01 00:00:00",
         "4.6"
        ],
        [
         "2024-08-01 00:00:00",
         "4.4"
        ],
        [
         "2024-09-01 00:00:00",
         "3.8"
        ],
        [
         "2024-10-01 00:00:00",
         "2.8"
        ],
        [
         "2024-11-01 00:00:00",
         "2.9"
        ],
        [
         "2024-12-01 00:00:00",
         "3.0"
        ],
        [
         "2025-01-01 00:00:00",
         "3.2"
        ],
        [
         "2025-02-01 00:00:00",
         "3.2"
        ],
        [
         "2025-03-01 00:00:00",
         "2.7"
        ],
        [
         "2025-04-01 00:00:00",
         "2.8"
        ],
        [
         "2025-05-01 00:00:00",
         "2.8"
        ]
       ],
       "shape": {
        "columns": 1,
        "rows": 41
       }
      },
      "text/html": [
       "<div>\n",
       "<style scoped>\n",
       "    .dataframe tbody tr th:only-of-type {\n",
       "        vertical-align: middle;\n",
       "    }\n",
       "\n",
       "    .dataframe tbody tr th {\n",
       "        vertical-align: top;\n",
       "    }\n",
       "\n",
       "    .dataframe thead th {\n",
       "        text-align: right;\n",
       "    }\n",
       "</style>\n",
       "<table border=\"1\" class=\"dataframe\">\n",
       "  <thead>\n",
       "    <tr style=\"text-align: right;\">\n",
       "      <th></th>\n",
       "      <th>inflation_rate</th>\n",
       "    </tr>\n",
       "    <tr>\n",
       "      <th>date</th>\n",
       "      <th></th>\n",
       "    </tr>\n",
       "  </thead>\n",
       "  <tbody>\n",
       "    <tr>\n",
       "      <th>2022-01-01</th>\n",
       "      <td>5.7</td>\n",
       "    </tr>\n",
       "    <tr>\n",
       "      <th>2022-02-01</th>\n",
       "      <td>5.7</td>\n",
       "    </tr>\n",
       "    <tr>\n",
       "      <th>2022-03-01</th>\n",
       "      <td>5.9</td>\n",
       "    </tr>\n",
       "    <tr>\n",
       "      <th>2022-04-01</th>\n",
       "      <td>5.9</td>\n",
       "    </tr>\n",
       "    <tr>\n",
       "      <th>2022-05-01</th>\n",
       "      <td>6.5</td>\n",
       "    </tr>\n",
       "    <tr>\n",
       "      <th>2022-06-01</th>\n",
       "      <td>7.4</td>\n",
       "    </tr>\n",
       "    <tr>\n",
       "      <th>2022-07-01</th>\n",
       "      <td>7.8</td>\n",
       "    </tr>\n",
       "    <tr>\n",
       "      <th>2022-08-01</th>\n",
       "      <td>7.6</td>\n",
       "    </tr>\n",
       "    <tr>\n",
       "      <th>2022-09-01</th>\n",
       "      <td>7.5</td>\n",
       "    </tr>\n",
       "    <tr>\n",
       "      <th>2022-10-01</th>\n",
       "      <td>7.6</td>\n",
       "    </tr>\n",
       "    <tr>\n",
       "      <th>2022-11-01</th>\n",
       "      <td>7.4</td>\n",
       "    </tr>\n",
       "    <tr>\n",
       "      <th>2022-12-01</th>\n",
       "      <td>7.2</td>\n",
       "    </tr>\n",
       "    <tr>\n",
       "      <th>2023-01-01</th>\n",
       "      <td>6.9</td>\n",
       "    </tr>\n",
       "    <tr>\n",
       "      <th>2023-02-01</th>\n",
       "      <td>7.0</td>\n",
       "    </tr>\n",
       "    <tr>\n",
       "      <th>2023-03-01</th>\n",
       "      <td>7.1</td>\n",
       "    </tr>\n",
       "    <tr>\n",
       "      <th>2023-04-01</th>\n",
       "      <td>6.8</td>\n",
       "    </tr>\n",
       "    <tr>\n",
       "      <th>2023-05-01</th>\n",
       "      <td>6.3</td>\n",
       "    </tr>\n",
       "    <tr>\n",
       "      <th>2023-06-01</th>\n",
       "      <td>5.4</td>\n",
       "    </tr>\n",
       "    <tr>\n",
       "      <th>2023-07-01</th>\n",
       "      <td>4.7</td>\n",
       "    </tr>\n",
       "    <tr>\n",
       "      <th>2023-08-01</th>\n",
       "      <td>4.8</td>\n",
       "    </tr>\n",
       "    <tr>\n",
       "      <th>2023-09-01</th>\n",
       "      <td>5.4</td>\n",
       "    </tr>\n",
       "    <tr>\n",
       "      <th>2023-10-01</th>\n",
       "      <td>5.9</td>\n",
       "    </tr>\n",
       "    <tr>\n",
       "      <th>2023-11-01</th>\n",
       "      <td>5.5</td>\n",
       "    </tr>\n",
       "    <tr>\n",
       "      <th>2023-12-01</th>\n",
       "      <td>5.1</td>\n",
       "    </tr>\n",
       "    <tr>\n",
       "      <th>2024-01-01</th>\n",
       "      <td>5.3</td>\n",
       "    </tr>\n",
       "    <tr>\n",
       "      <th>2024-02-01</th>\n",
       "      <td>5.6</td>\n",
       "    </tr>\n",
       "    <tr>\n",
       "      <th>2024-03-01</th>\n",
       "      <td>5.3</td>\n",
       "    </tr>\n",
       "    <tr>\n",
       "      <th>2024-04-01</th>\n",
       "      <td>5.2</td>\n",
       "    </tr>\n",
       "    <tr>\n",
       "      <th>2024-05-01</th>\n",
       "      <td>5.2</td>\n",
       "    </tr>\n",
       "    <tr>\n",
       "      <th>2024-06-01</th>\n",
       "      <td>5.1</td>\n",
       "    </tr>\n",
       "    <tr>\n",
       "      <th>2024-07-01</th>\n",
       "      <td>4.6</td>\n",
       "    </tr>\n",
       "    <tr>\n",
       "      <th>2024-08-01</th>\n",
       "      <td>4.4</td>\n",
       "    </tr>\n",
       "    <tr>\n",
       "      <th>2024-09-01</th>\n",
       "      <td>3.8</td>\n",
       "    </tr>\n",
       "    <tr>\n",
       "      <th>2024-10-01</th>\n",
       "      <td>2.8</td>\n",
       "    </tr>\n",
       "    <tr>\n",
       "      <th>2024-11-01</th>\n",
       "      <td>2.9</td>\n",
       "    </tr>\n",
       "    <tr>\n",
       "      <th>2024-12-01</th>\n",
       "      <td>3.0</td>\n",
       "    </tr>\n",
       "    <tr>\n",
       "      <th>2025-01-01</th>\n",
       "      <td>3.2</td>\n",
       "    </tr>\n",
       "    <tr>\n",
       "      <th>2025-02-01</th>\n",
       "      <td>3.2</td>\n",
       "    </tr>\n",
       "    <tr>\n",
       "      <th>2025-03-01</th>\n",
       "      <td>2.7</td>\n",
       "    </tr>\n",
       "    <tr>\n",
       "      <th>2025-04-01</th>\n",
       "      <td>2.8</td>\n",
       "    </tr>\n",
       "    <tr>\n",
       "      <th>2025-05-01</th>\n",
       "      <td>2.8</td>\n",
       "    </tr>\n",
       "  </tbody>\n",
       "</table>\n",
       "</div>"
      ],
      "text/plain": [
       "            inflation_rate\n",
       "date                      \n",
       "2022-01-01             5.7\n",
       "2022-02-01             5.7\n",
       "2022-03-01             5.9\n",
       "2022-04-01             5.9\n",
       "2022-05-01             6.5\n",
       "2022-06-01             7.4\n",
       "2022-07-01             7.8\n",
       "2022-08-01             7.6\n",
       "2022-09-01             7.5\n",
       "2022-10-01             7.6\n",
       "2022-11-01             7.4\n",
       "2022-12-01             7.2\n",
       "2023-01-01             6.9\n",
       "2023-02-01             7.0\n",
       "2023-03-01             7.1\n",
       "2023-04-01             6.8\n",
       "2023-05-01             6.3\n",
       "2023-06-01             5.4\n",
       "2023-07-01             4.7\n",
       "2023-08-01             4.8\n",
       "2023-09-01             5.4\n",
       "2023-10-01             5.9\n",
       "2023-11-01             5.5\n",
       "2023-12-01             5.1\n",
       "2024-01-01             5.3\n",
       "2024-02-01             5.6\n",
       "2024-03-01             5.3\n",
       "2024-04-01             5.2\n",
       "2024-05-01             5.2\n",
       "2024-06-01             5.1\n",
       "2024-07-01             4.6\n",
       "2024-08-01             4.4\n",
       "2024-09-01             3.8\n",
       "2024-10-01             2.8\n",
       "2024-11-01             2.9\n",
       "2024-12-01             3.0\n",
       "2025-01-01             3.2\n",
       "2025-02-01             3.2\n",
       "2025-03-01             2.7\n",
       "2025-04-01             2.8\n",
       "2025-05-01             2.8"
      ]
     },
     "execution_count": 3,
     "metadata": {},
     "output_type": "execute_result"
    }
   ],
   "source": [
    "cpi_df"
   ]
  },
  {
   "cell_type": "code",
   "execution_count": 4,
   "id": "e1cdc711",
   "metadata": {},
   "outputs": [
    {
     "data": {
      "application/vnd.microsoft.datawrangler.viewer.v0+json": {
       "columns": [
        {
         "name": "date",
         "rawType": "datetime64[ns]",
         "type": "datetime"
        },
        {
         "name": "unemployment_rate",
         "rawType": "float64",
         "type": "float"
        }
       ],
       "ref": "203a0b66-0fb1-4eb2-9cb3-1f6dbb75bbc7",
       "rows": [
        [
         "2021-10-01 00:00:00",
         "35.27707"
        ],
        [
         "2022-01-01 00:00:00",
         "34.23624"
        ],
        [
         "2022-04-01 00:00:00",
         "34.20478"
        ],
        [
         "2022-07-01 00:00:00",
         "32.85991"
        ],
        [
         "2022-10-01 00:00:00",
         "32.7624"
        ],
        [
         "2023-01-01 00:00:00",
         "32.59385"
        ],
        [
         "2023-04-01 00:00:00",
         "32.76249"
        ],
        [
         "2023-07-01 00:00:00",
         "31.964"
        ],
        [
         "2023-10-01 00:00:00",
         "32.18605"
        ],
        [
         "2024-01-01 00:00:00",
         "32.67073"
        ],
        [
         "2024-04-01 00:00:00",
         "33.53903"
        ],
        [
         "2024-07-01 00:00:00",
         "32.17071"
        ],
        [
         "2024-10-01 00:00:00",
         "32.02299"
        ],
        [
         "2025-01-01 00:00:00",
         "32.68566"
        ]
       ],
       "shape": {
        "columns": 1,
        "rows": 14
       }
      },
      "text/html": [
       "<div>\n",
       "<style scoped>\n",
       "    .dataframe tbody tr th:only-of-type {\n",
       "        vertical-align: middle;\n",
       "    }\n",
       "\n",
       "    .dataframe tbody tr th {\n",
       "        vertical-align: top;\n",
       "    }\n",
       "\n",
       "    .dataframe thead th {\n",
       "        text-align: right;\n",
       "    }\n",
       "</style>\n",
       "<table border=\"1\" class=\"dataframe\">\n",
       "  <thead>\n",
       "    <tr style=\"text-align: right;\">\n",
       "      <th></th>\n",
       "      <th>unemployment_rate</th>\n",
       "    </tr>\n",
       "    <tr>\n",
       "      <th>date</th>\n",
       "      <th></th>\n",
       "    </tr>\n",
       "  </thead>\n",
       "  <tbody>\n",
       "    <tr>\n",
       "      <th>2021-10-01</th>\n",
       "      <td>35.27707</td>\n",
       "    </tr>\n",
       "    <tr>\n",
       "      <th>2022-01-01</th>\n",
       "      <td>34.23624</td>\n",
       "    </tr>\n",
       "    <tr>\n",
       "      <th>2022-04-01</th>\n",
       "      <td>34.20478</td>\n",
       "    </tr>\n",
       "    <tr>\n",
       "      <th>2022-07-01</th>\n",
       "      <td>32.85991</td>\n",
       "    </tr>\n",
       "    <tr>\n",
       "      <th>2022-10-01</th>\n",
       "      <td>32.76240</td>\n",
       "    </tr>\n",
       "    <tr>\n",
       "      <th>2023-01-01</th>\n",
       "      <td>32.59385</td>\n",
       "    </tr>\n",
       "    <tr>\n",
       "      <th>2023-04-01</th>\n",
       "      <td>32.76249</td>\n",
       "    </tr>\n",
       "    <tr>\n",
       "      <th>2023-07-01</th>\n",
       "      <td>31.96400</td>\n",
       "    </tr>\n",
       "    <tr>\n",
       "      <th>2023-10-01</th>\n",
       "      <td>32.18605</td>\n",
       "    </tr>\n",
       "    <tr>\n",
       "      <th>2024-01-01</th>\n",
       "      <td>32.67073</td>\n",
       "    </tr>\n",
       "    <tr>\n",
       "      <th>2024-04-01</th>\n",
       "      <td>33.53903</td>\n",
       "    </tr>\n",
       "    <tr>\n",
       "      <th>2024-07-01</th>\n",
       "      <td>32.17071</td>\n",
       "    </tr>\n",
       "    <tr>\n",
       "      <th>2024-10-01</th>\n",
       "      <td>32.02299</td>\n",
       "    </tr>\n",
       "    <tr>\n",
       "      <th>2025-01-01</th>\n",
       "      <td>32.68566</td>\n",
       "    </tr>\n",
       "  </tbody>\n",
       "</table>\n",
       "</div>"
      ],
      "text/plain": [
       "            unemployment_rate\n",
       "date                         \n",
       "2021-10-01           35.27707\n",
       "2022-01-01           34.23624\n",
       "2022-04-01           34.20478\n",
       "2022-07-01           32.85991\n",
       "2022-10-01           32.76240\n",
       "2023-01-01           32.59385\n",
       "2023-04-01           32.76249\n",
       "2023-07-01           31.96400\n",
       "2023-10-01           32.18605\n",
       "2024-01-01           32.67073\n",
       "2024-04-01           33.53903\n",
       "2024-07-01           32.17071\n",
       "2024-10-01           32.02299\n",
       "2025-01-01           32.68566"
      ]
     },
     "execution_count": 4,
     "metadata": {},
     "output_type": "execute_result"
    }
   ],
   "source": [
    "unemployment_df"
   ]
  },
  {
   "cell_type": "code",
   "execution_count": 5,
   "id": "4277858d",
   "metadata": {},
   "outputs": [
    {
     "data": {
      "application/vnd.microsoft.datawrangler.viewer.v0+json": {
       "columns": [
        {
         "name": "date",
         "rawType": "datetime64[ns]",
         "type": "datetime"
        },
        {
         "name": "gdp",
         "rawType": "float64",
         "type": "float"
        }
       ],
       "ref": "10d23380-8de4-4e2b-a155-4484369920a9",
       "rows": [
        [
         "2021-10-01 00:00:00",
         "1134883.9"
        ],
        [
         "2022-01-01 00:00:00",
         "1152147.1"
        ],
        [
         "2022-04-01 00:00:00",
         "1141637.0"
        ],
        [
         "2022-07-01 00:00:00",
         "1162811.0"
        ],
        [
         "2022-10-01 00:00:00",
         "1146094.5"
        ],
        [
         "2023-01-01 00:00:00",
         "1154024.4"
        ],
        [
         "2023-04-01 00:00:00",
         "1163383.4"
        ],
        [
         "2023-07-01 00:00:00",
         "1158936.1"
        ],
        [
         "2023-10-01 00:00:00",
         "1163448.0"
        ],
        [
         "2024-01-01 00:00:00",
         "1164447.9"
        ],
        [
         "2024-04-01 00:00:00",
         "1167433.1"
        ],
        [
         "2024-07-01 00:00:00",
         "1164042.3"
        ],
        [
         "2024-10-01 00:00:00",
         "1168684.4"
        ],
        [
         "2025-01-01 00:00:00",
         "1169838.5"
        ]
       ],
       "shape": {
        "columns": 1,
        "rows": 14
       }
      },
      "text/html": [
       "<div>\n",
       "<style scoped>\n",
       "    .dataframe tbody tr th:only-of-type {\n",
       "        vertical-align: middle;\n",
       "    }\n",
       "\n",
       "    .dataframe tbody tr th {\n",
       "        vertical-align: top;\n",
       "    }\n",
       "\n",
       "    .dataframe thead th {\n",
       "        text-align: right;\n",
       "    }\n",
       "</style>\n",
       "<table border=\"1\" class=\"dataframe\">\n",
       "  <thead>\n",
       "    <tr style=\"text-align: right;\">\n",
       "      <th></th>\n",
       "      <th>gdp</th>\n",
       "    </tr>\n",
       "    <tr>\n",
       "      <th>date</th>\n",
       "      <th></th>\n",
       "    </tr>\n",
       "  </thead>\n",
       "  <tbody>\n",
       "    <tr>\n",
       "      <th>2021-10-01</th>\n",
       "      <td>1134883.9</td>\n",
       "    </tr>\n",
       "    <tr>\n",
       "      <th>2022-01-01</th>\n",
       "      <td>1152147.1</td>\n",
       "    </tr>\n",
       "    <tr>\n",
       "      <th>2022-04-01</th>\n",
       "      <td>1141637.0</td>\n",
       "    </tr>\n",
       "    <tr>\n",
       "      <th>2022-07-01</th>\n",
       "      <td>1162811.0</td>\n",
       "    </tr>\n",
       "    <tr>\n",
       "      <th>2022-10-01</th>\n",
       "      <td>1146094.5</td>\n",
       "    </tr>\n",
       "    <tr>\n",
       "      <th>2023-01-01</th>\n",
       "      <td>1154024.4</td>\n",
       "    </tr>\n",
       "    <tr>\n",
       "      <th>2023-04-01</th>\n",
       "      <td>1163383.4</td>\n",
       "    </tr>\n",
       "    <tr>\n",
       "      <th>2023-07-01</th>\n",
       "      <td>1158936.1</td>\n",
       "    </tr>\n",
       "    <tr>\n",
       "      <th>2023-10-01</th>\n",
       "      <td>1163448.0</td>\n",
       "    </tr>\n",
       "    <tr>\n",
       "      <th>2024-01-01</th>\n",
       "      <td>1164447.9</td>\n",
       "    </tr>\n",
       "    <tr>\n",
       "      <th>2024-04-01</th>\n",
       "      <td>1167433.1</td>\n",
       "    </tr>\n",
       "    <tr>\n",
       "      <th>2024-07-01</th>\n",
       "      <td>1164042.3</td>\n",
       "    </tr>\n",
       "    <tr>\n",
       "      <th>2024-10-01</th>\n",
       "      <td>1168684.4</td>\n",
       "    </tr>\n",
       "    <tr>\n",
       "      <th>2025-01-01</th>\n",
       "      <td>1169838.5</td>\n",
       "    </tr>\n",
       "  </tbody>\n",
       "</table>\n",
       "</div>"
      ],
      "text/plain": [
       "                  gdp\n",
       "date                 \n",
       "2021-10-01  1134883.9\n",
       "2022-01-01  1152147.1\n",
       "2022-04-01  1141637.0\n",
       "2022-07-01  1162811.0\n",
       "2022-10-01  1146094.5\n",
       "2023-01-01  1154024.4\n",
       "2023-04-01  1163383.4\n",
       "2023-07-01  1158936.1\n",
       "2023-10-01  1163448.0\n",
       "2024-01-01  1164447.9\n",
       "2024-04-01  1167433.1\n",
       "2024-07-01  1164042.3\n",
       "2024-10-01  1168684.4\n",
       "2025-01-01  1169838.5"
      ]
     },
     "execution_count": 5,
     "metadata": {},
     "output_type": "execute_result"
    }
   ],
   "source": [
    "gdp_df"
   ]
  },
  {
   "cell_type": "code",
   "execution_count": null,
   "id": "31f945c0",
   "metadata": {},
   "outputs": [],
   "source": []
  }
 ],
 "metadata": {
  "kernelspec": {
   "display_name": "NPLTestCaseEnv",
   "language": "python",
   "name": "python3"
  },
  "language_info": {
   "codemirror_mode": {
    "name": "ipython",
    "version": 3
   },
   "file_extension": ".py",
   "mimetype": "text/x-python",
   "name": "python",
   "nbconvert_exporter": "python",
   "pygments_lexer": "ipython3",
   "version": "3.13.5"
  }
 },
 "nbformat": 4,
 "nbformat_minor": 5
}
